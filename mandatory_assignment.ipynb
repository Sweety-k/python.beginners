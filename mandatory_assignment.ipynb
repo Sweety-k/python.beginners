{
  "nbformat": 4,
  "nbformat_minor": 0,
  "metadata": {
    "colab": {
      "provenance": []
    },
    "kernelspec": {
      "name": "python3",
      "display_name": "Python 3"
    },
    "language_info": {
      "name": "python"
    }
  },
  "cells": [
    {
      "cell_type": "markdown",
      "source": [
        "Q1: You are working in a bank, and you have been given two lists of the employees who worked in 2021. Employees’ names in list 1 are Ramesh, Suresh, Mahesh, Ali, Jacob, and Saritha. List 2 contains the names of Ali, Mukesh, Mahesh, Jacob, Sai, and Sarita. Please write a program that helps to identify people who are common in both lists. Please do not use any in-built function."
      ],
      "metadata": {
        "id": "wPeT62t9FZyC"
      }
    },
    {
      "cell_type": "code",
      "source": [
        "# Define the two lists of employees\n",
        "list1 = [\"Ramesh\", \"Suresh\", \"Mahesh\", \"Ali\", \"Jacob\", \"Saritha\"]\n",
        "list2 = [\"Ali\", \"Mukesh\", \"Mahesh\", \"Jacob\", \"Sai\", \"Sarita\"]\n",
        "\n",
        "# Initialize an empty list to store common employees\n",
        "common_employees = []\n",
        "\n",
        "# Iterate through each name in list1\n",
        "for name1 in list1:\n",
        "    # Check if the name is also in list2\n",
        "    for name2 in list2:\n",
        "        if name1 == name2:\n",
        "            common_employees.append(name1)\n",
        "             break # Once a match is found, no need to check further in list2\n",
        "# Print the common employees\n",
        "if common_employees:\n",
        "    print(\"Common employees in both lists:\")\n",
        "    for employee in common_employees:\n",
        "        print(employee)\n",
        "else:\n",
        "    print(\"No common employees found.\")"
      ],
      "metadata": {
        "colab": {
          "base_uri": "https://localhost:8080/"
        },
        "id": "pX94xuBmFjhG",
        "outputId": "2296d612-f815-4b7f-a6cb-d042717a5522"
      },
      "execution_count": 2,
      "outputs": [
        {
          "output_type": "stream",
          "name": "stdout",
          "text": [
            "Common employees in both lists:\n",
            "Mahesh\n",
            "Ali\n",
            "Jacob\n"
          ]
        }
      ]
    },
    {
      "cell_type": "markdown",
      "source": [
        "Q2: While entering data, someone entered a few names as a common string “Ramesh Suresh Mohit”. Please write a program which separates all the names and converts them into a list. Once converted into a list, please write a program that adds their age.\n",
        "\n",
        "\n",
        "\n",
        "Ramesh:  25\n",
        "\n",
        "Suresh: 22\n",
        "\n",
        "Mohit: 26"
      ],
      "metadata": {
        "id": "eVZBGrJVNbxx"
      }
    },
    {
      "cell_type": "code",
      "source": [
        "# Common string containing names and ages\n",
        "common_string = \"Ramesh: 25 Suresh: 22 Mohit: 26\"\n",
        "\n",
        "# Initialize empty lists to store names and ages\n",
        "names = []\n",
        "ages = []\n",
        "\n",
        "# Split the common string into individual words\n",
        "words = common_string.split()\n",
        "\n",
        "# Iterate through the words and separate names and ages\n",
        "for i in range(0, len(words), 2):\n",
        "    name = words[i].rstrip(':')\n",
        "    age = int(words[i + 1])\n",
        "    names.append(name)\n",
        "    ages.append(age)\n",
        "\n",
        "# Print the names and ages\n",
        "for i in range(len(names)):\n",
        "    print(f\"{names[i]}: {ages[i]}\")"
      ],
      "metadata": {
        "colab": {
          "base_uri": "https://localhost:8080/"
        },
        "id": "PoYObC8tNf45",
        "outputId": "147f8073-d845-44cf-ada9-ac4c0c757b19"
      },
      "execution_count": null,
      "outputs": [
        {
          "output_type": "stream",
          "name": "stdout",
          "text": [
            "Ramesh: 25\n",
            "Suresh: 22\n",
            "Mohit: 26\n"
          ]
        }
      ]
    },
    {
      "cell_type": "code",
      "source": [
        "# Common string containing names and ages\n",
        "common_string = \"Ramesh: 25 Suresh: 22 Mohit: 26\"\n",
        "\n",
        "# Split the common string into individual words\n",
        "words = common_string.split()\n",
        "\n",
        "# Use list comprehension to separate names and ages\n",
        "names = [word.rstrip(':') for word in words[::2]]\n",
        "ages = [int(word) for word in words[1::2]]\n",
        "\n",
        "# Print the names and ages\n",
        "for name, age in zip(names, ages):\n",
        "    print(f\"{name}: {age}\")\n"
      ],
      "metadata": {
        "colab": {
          "base_uri": "https://localhost:8080/"
        },
        "id": "Z71_h1KRbnVY",
        "outputId": "ce6553fe-df96-444a-df0a-33dcf50a036f"
      },
      "execution_count": null,
      "outputs": [
        {
          "output_type": "stream",
          "name": "stdout",
          "text": [
            "Ramesh: 25\n",
            "Suresh: 22\n",
            "Mohit: 26\n"
          ]
        }
      ]
    },
    {
      "cell_type": "markdown",
      "source": [
        "Q3: You are working in a medical store. A patient came to your medical store and asked to buy 2 strips of paracetamol, 3 strips of azithromycin, and 5 strips of Vitamin C. One strip of paracetamol costs Rs 35, one strip of azithromycin costs Rs 49, and one strip of vitamin c costs Rs. 33. Patient gave you Rs 2000. Please tell us what is the total cost of each medicine, the total cost of all medicine, and how much money you refunded to the patient.  "
      ],
      "metadata": {
        "id": "7EL3UdJvgMGq"
      }
    },
    {
      "cell_type": "code",
      "source": [
        "# Cost of each medicine per strip\n",
        "paracetamol_cost = 35\n",
        "azithromycin_cost = 49\n",
        "vitamin_c_cost = 33\n",
        "\n",
        "# Quantity of each medicine\n",
        "paracetamol_qty = 2\n",
        "azithromycin_qty = 3\n",
        "vitamin_c_qty = 5\n",
        "\n",
        "# Calculate the total cost for each medicine\n",
        "total_paracetamol_cost = paracetamol_cost * paracetamol_qty\n",
        "total_azithromycin_cost = azithromycin_cost * azithromycin_qty\n",
        "total_vitamin_c_cost = vitamin_c_cost * vitamin_c_qty\n",
        "\n",
        "# Calculate the overall total cost for all medicines\n",
        "total_cost = total_paracetamol_cost + total_azithromycin_cost + total_vitamin_c_cost\n",
        "\n",
        "# Amount given by the patient\n",
        "amount_given = 2000\n",
        "\n",
        "# Calculate the refund\n",
        "refund = amount_given - total_cost\n",
        "\n",
        "# Print the results\n",
        "print(f\"Total cost of Paracetamol: Rs. {total_paracetamol_cost}\")\n",
        "print(f\"Total cost of Azithromycin: Rs. {total_azithromycin_cost}\")\n",
        "print(f\"Total cost of Vitamin C: Rs. {total_vitamin_c_cost}\")\n",
        "print(f\"Total cost of all medicines: Rs. {total_cost}\")\n",
        "print(f\"Refund to the patient: Rs. {refund}\")\n"
      ],
      "metadata": {
        "colab": {
          "base_uri": "https://localhost:8080/"
        },
        "id": "4FSNn_Seknyt",
        "outputId": "3f1a8ed5-9779-4ab0-ab60-9e975e44d775"
      },
      "execution_count": null,
      "outputs": [
        {
          "output_type": "stream",
          "name": "stdout",
          "text": [
            "Total cost of Paracetamol: Rs. 70\n",
            "Total cost of Azithromycin: Rs. 147\n",
            "Total cost of Vitamin C: Rs. 165\n",
            "Total cost of all medicines: Rs. 382\n",
            "Refund to the patient: Rs. 1618\n"
          ]
        }
      ]
    },
    {
      "cell_type": "code",
      "source": [
        "# Define the cost of each medicine per strip\n",
        "medicine_prices = {'Paracetamol': 35, 'Azithromycin': 49, 'Vitamin C': 33}\n",
        "\n",
        "# Define the quantity of each medicine\n",
        "medicine_quantities = {'Paracetamol': 2, 'Azithromycin': 3, 'Vitamin C': 5}\n",
        "\n",
        "# Calculate the total cost for each medicine and the overall total cost\n",
        "total_cost = 0\n",
        "\n",
        "for medicine, price in medicine_prices.items():\n",
        "    quantity = medicine_quantities.get(medicine, 0)\n",
        "    medicine_cost = price * quantity\n",
        "    total_cost += medicine_cost\n",
        "    print(f\"Total cost of {medicine}: Rs. {medicine_cost}\")\n",
        "\n",
        "# Amount given by the patient\n",
        "amount_given = 2000\n",
        "\n",
        "# Calculate the refund\n",
        "refund = amount_given - total_cost\n",
        "\n",
        "# Print the overall total cost and refund\n",
        "print(f\"Total cost of all medicines: Rs. {total_cost}\")\n",
        "print(f\"Refund to the patient: Rs. {refund}\")"
      ],
      "metadata": {
        "colab": {
          "base_uri": "https://localhost:8080/"
        },
        "id": "lWj87Cs6lA4z",
        "outputId": "d09b9181-c293-4ba1-d908-d3a136fdc0a3"
      },
      "execution_count": null,
      "outputs": [
        {
          "output_type": "stream",
          "name": "stdout",
          "text": [
            "Total cost of Paracetamol: Rs. 70\n",
            "Total cost of Azithromycin: Rs. 147\n",
            "Total cost of Vitamin C: Rs. 165\n",
            "Total cost of all medicines: Rs. 382\n",
            "Refund to the patient: Rs. 1618\n"
          ]
        }
      ]
    },
    {
      "cell_type": "markdown",
      "source": [
        "Q4: Accept a sentence as input and find the number of vowels in it. Assume that the sentence has no punctuation marks. For example, I am learning python contains 6 vowels. This function should be applicable for all other different sentences."
      ],
      "metadata": {
        "id": "YN50fqmWnvFL"
      }
    },
    {
      "cell_type": "code",
      "source": [
        "# Input sentence from the user\n",
        "sentence = input(\"Enter a sentence: \")\n",
        "\n",
        "# Initialize a variable to store the count of vowels\n",
        "vowel_count = 0\n",
        "\n",
        "# Define a set of vowels (both uppercase and lowercase)\n",
        "vowels = \"AEIOUaeiou\"\n",
        "\n",
        "# Iterate through each character in the sentence\n",
        "for char in sentence:\n",
        "    # Check if the character is a vowel\n",
        "    if char in vowels:\n",
        "        vowel_count += 1\n",
        "\n",
        "# Print the count of vowels\n",
        "print(f\"Number of vowels in the sentence: {vowel_count}\")"
      ],
      "metadata": {
        "colab": {
          "base_uri": "https://localhost:8080/"
        },
        "id": "fQIquUAYlXcs",
        "outputId": "8c97956e-375b-4f22-b480-af1db77456f5"
      },
      "execution_count": null,
      "outputs": [
        {
          "output_type": "stream",
          "name": "stdout",
          "text": [
            "Enter a sentence: I was thinking of going out today\n",
            "Number of vowels in the sentence: 11\n"
          ]
        }
      ]
    },
    {
      "cell_type": "markdown",
      "source": [
        "Q5: You have been appointed by the election commission to create a website. Your first task is to work on a program which tells candidates if they are eligible for voting or not. If they are eligible, your output should be ‘Congrats! You are eligible’; otherwise, it should tell that you have to return after X number of years. The eligibility criteria for voting is 18 years.\n",
        "\n"
      ],
      "metadata": {
        "id": "FhG7B6Bkoo1d"
      }
    },
    {
      "cell_type": "code",
      "source": [
        "age = int(input(\"Enter your age : \"))\n",
        "\n",
        "if age >= 18:\n",
        "  print(\"Congrats! You are eligible\")\n",
        "else:\n",
        "  return_age = 18 - age\n",
        "  print(f\"Sorry, You are not eligible. You have to return after {return_age} years.\")"
      ],
      "metadata": {
        "colab": {
          "base_uri": "https://localhost:8080/"
        },
        "id": "J-ntgRiRotRl",
        "outputId": "fe1a0264-36a1-4287-cac5-20545f841a13"
      },
      "execution_count": null,
      "outputs": [
        {
          "output_type": "stream",
          "name": "stdout",
          "text": [
            "Enter your age : 2\n",
            "Sorry, You are not eligible. You have to return after 16 years.\n"
          ]
        }
      ]
    },
    {
      "cell_type": "markdown",
      "source": [
        "Q6: Given a list of integers, find the cumulative sum of the elements of the list and store them in another list.\n",
        "\n",
        "\n",
        "\n",
        "A = [1, 2, 3, 4, 5]\n",
        "\n",
        "\n",
        "\n",
        "Output:\n",
        "\n",
        "[1, 3, 6, 10, 15]"
      ],
      "metadata": {
        "id": "1WgZFcd2tUOw"
      }
    },
    {
      "cell_type": "code",
      "source": [
        "A = [1, 2, 3, 4, 5]\n",
        "commulative_sum = 0\n",
        "commulative_sums = []\n",
        "\n",
        "for num in A:\n",
        "  commulative_sum += num\n",
        "  commulative_sums.append(commulative_sum)\n",
        "print(commulative_sums)"
      ],
      "metadata": {
        "colab": {
          "base_uri": "https://localhost:8080/"
        },
        "id": "ieW0tr__tTsj",
        "outputId": "d147a0d2-c86d-4e1e-d346-900b8600be3c"
      },
      "execution_count": null,
      "outputs": [
        {
          "output_type": "stream",
          "name": "stdout",
          "text": [
            "[1, 3, 6, 10, 15]\n"
          ]
        }
      ]
    },
    {
      "cell_type": "markdown",
      "source": [
        "Q7:\n",
        "\n",
        "WAP to encode a message entered by user as per below conditions:\n",
        "\n",
        "\n",
        "\n",
        "for every word in the sentence,\n",
        "\n",
        "1. If the word starts with a vowel, encode it as the first and last letter of the word.\n",
        "\n",
        "2. If the word starts with a consonant, remove all vowels from it.\n",
        "\n",
        "\n",
        "\n",
        "Ensure the case insensitive comparisons/checks are performed.\n",
        "\n",
        "\n",
        "\n",
        "Please enter your text:The quick brown fox used to sleep inside this box\n",
        "\n",
        "Encoded Msg: Th qck brwn fx ud t slp ie ths bx"
      ],
      "metadata": {
        "id": "UqNDPge_uqqL"
      }
    },
    {
      "cell_type": "code",
      "source": [
        "def is_vowel(char):\n",
        "    vowels = \"aeiou\"\n",
        "    return char.lower() in vowels\n",
        "\n",
        "def encode_word(word):\n",
        "    if is_vowel(word[0]):\n",
        "        return word[0] + word[-1]\n",
        "    else:\n",
        "        return ''.join([char for char in word if not is_vowel(char)])\n",
        "\n",
        "def encode_message(sentence):\n",
        "    words = sentence.split()\n",
        "    encoded_words = [encode_word(word) for word in words]\n",
        "    encoded_message = ' '.join(encoded_words)\n",
        "    return encoded_message\n",
        "\n",
        "# Input the sentence from the user\n",
        "sentence = input(\"Please enter your text: \")\n",
        "\n",
        "# Encode the message\n",
        "encoded_msg = encode_message(sentence)\n",
        "\n",
        "# Print the encoded message\n",
        "print(\"Encoded Msg:\", encoded_msg)"
      ],
      "metadata": {
        "colab": {
          "base_uri": "https://localhost:8080/"
        },
        "id": "t3Kk4awQuu9G",
        "outputId": "2ed60a2d-2eb9-411e-f035-9934060c852e"
      },
      "execution_count": null,
      "outputs": [
        {
          "output_type": "stream",
          "name": "stdout",
          "text": [
            "Please enter your text: :The quick brown fox used to sleep inside this box\n",
            "Encoded Msg: :Th qck brwn fx ud t slp ie ths bx\n"
          ]
        }
      ]
    },
    {
      "cell_type": "markdown",
      "source": [
        "Q8:\n",
        "\n",
        "Write a program to implement run length encoding of a string\n",
        "\n",
        "\n",
        "\n",
        "RLE:Consecutive repetition of a character has to be replaced with the count of occurrences and the character.\n",
        "\n",
        "\n",
        "\n",
        "Enter your string :aabbbccdddae\n",
        "\n",
        "Encoded: 2a3b2c3d1a1e"
      ],
      "metadata": {
        "id": "GAEVgTG20vaN"
      }
    },
    {
      "cell_type": "code",
      "source": [
        "def run_length_encoding(s):\n",
        "\n",
        "    encoded = []\n",
        "    count = 1\n",
        "\n",
        "    for i in range(1, len(s)):\n",
        "        if s[i] == s[i - 1]:\n",
        "            count += 1\n",
        "        else:\n",
        "            encoded.append(str(count) + s[i - 1])\n",
        "            count = 1\n",
        "\n",
        "    encoded.append(str(count) + s[-1])\n",
        "\n",
        "    return ''.join(encoded)\n",
        "\n",
        "# Input\n",
        "input_string = input(\"Enter your string: \")\n",
        "encoded_string = run_length_encoding(input_string)\n",
        "\n",
        "# Output\n",
        "print(\"Encoded:\", encoded_string)"
      ],
      "metadata": {
        "id": "tqN_jXFJ0ys6",
        "colab": {
          "base_uri": "https://localhost:8080/"
        },
        "outputId": "261b3ea7-ae85-45bc-f762-cf65f3c1eadf"
      },
      "execution_count": 1,
      "outputs": [
        {
          "output_type": "stream",
          "name": "stdout",
          "text": [
            "Enter your string: aabbbccdddae\n",
            "Encoded: 2a3b2c3d1a1e\n"
          ]
        }
      ]
    }
  ]
}